{
 "cells": [
  {
   "cell_type": "code",
   "execution_count": 22,
   "metadata": {},
   "outputs": [],
   "source": [
    "import pandas as pd\n",
    "from sklearn.datasets import load_breast_cancer\n",
    "\n",
    "data = load_breast_cancer()\n",
    "x = pd.DataFrame(data.data, columns=[data.feature_names])\n",
    "y = pd.Series(data.target)"
   ]
  },
  {
   "cell_type": "code",
   "execution_count": 23,
   "metadata": {},
   "outputs": [
    {
     "data": {
      "text/plain": [
       "level_0    object\n",
       "dtype: object"
      ]
     },
     "execution_count": 23,
     "metadata": {},
     "output_type": "execute_result"
    }
   ],
   "source": [
    "x.columns.dtypes"
   ]
  },
  {
   "cell_type": "code",
   "execution_count": 24,
   "metadata": {},
   "outputs": [],
   "source": [
    "\n",
    "#Transformar o MultiIndex em um Index simples\n",
    "x.columns = ['_'.join(map(str, col)) for col in x.columns.to_flat_index()]"
   ]
  },
  {
   "cell_type": "code",
   "execution_count": 25,
   "metadata": {},
   "outputs": [
    {
     "data": {
      "text/html": [
       "<div>\n",
       "<style scoped>\n",
       "    .dataframe tbody tr th:only-of-type {\n",
       "        vertical-align: middle;\n",
       "    }\n",
       "\n",
       "    .dataframe tbody tr th {\n",
       "        vertical-align: top;\n",
       "    }\n",
       "\n",
       "    .dataframe thead th {\n",
       "        text-align: right;\n",
       "    }\n",
       "</style>\n",
       "<table border=\"1\" class=\"dataframe\">\n",
       "  <thead>\n",
       "    <tr style=\"text-align: right;\">\n",
       "      <th></th>\n",
       "      <th>mean radius</th>\n",
       "      <th>mean texture</th>\n",
       "      <th>mean perimeter</th>\n",
       "      <th>mean area</th>\n",
       "      <th>mean smoothness</th>\n",
       "      <th>mean compactness</th>\n",
       "      <th>mean concavity</th>\n",
       "      <th>mean concave points</th>\n",
       "      <th>mean symmetry</th>\n",
       "      <th>mean fractal dimension</th>\n",
       "      <th>...</th>\n",
       "      <th>worst radius</th>\n",
       "      <th>worst texture</th>\n",
       "      <th>worst perimeter</th>\n",
       "      <th>worst area</th>\n",
       "      <th>worst smoothness</th>\n",
       "      <th>worst compactness</th>\n",
       "      <th>worst concavity</th>\n",
       "      <th>worst concave points</th>\n",
       "      <th>worst symmetry</th>\n",
       "      <th>worst fractal dimension</th>\n",
       "    </tr>\n",
       "  </thead>\n",
       "  <tbody>\n",
       "    <tr>\n",
       "      <th>0</th>\n",
       "      <td>17.99</td>\n",
       "      <td>10.38</td>\n",
       "      <td>122.8</td>\n",
       "      <td>1001.0</td>\n",
       "      <td>0.1184</td>\n",
       "      <td>0.2776</td>\n",
       "      <td>0.3001</td>\n",
       "      <td>0.1471</td>\n",
       "      <td>0.2419</td>\n",
       "      <td>0.07871</td>\n",
       "      <td>...</td>\n",
       "      <td>25.38</td>\n",
       "      <td>17.33</td>\n",
       "      <td>184.6</td>\n",
       "      <td>2019.0</td>\n",
       "      <td>0.1622</td>\n",
       "      <td>0.6656</td>\n",
       "      <td>0.7119</td>\n",
       "      <td>0.2654</td>\n",
       "      <td>0.4601</td>\n",
       "      <td>0.1189</td>\n",
       "    </tr>\n",
       "  </tbody>\n",
       "</table>\n",
       "<p>1 rows × 30 columns</p>\n",
       "</div>"
      ],
      "text/plain": [
       "   mean radius  mean texture  mean perimeter  mean area  mean smoothness  \\\n",
       "0        17.99         10.38           122.8     1001.0           0.1184   \n",
       "\n",
       "   mean compactness  mean concavity  mean concave points  mean symmetry  \\\n",
       "0            0.2776          0.3001               0.1471         0.2419   \n",
       "\n",
       "   mean fractal dimension  ...  worst radius  worst texture  worst perimeter  \\\n",
       "0                 0.07871  ...         25.38          17.33            184.6   \n",
       "\n",
       "   worst area  worst smoothness  worst compactness  worst concavity  \\\n",
       "0      2019.0            0.1622             0.6656           0.7119   \n",
       "\n",
       "   worst concave points  worst symmetry  worst fractal dimension  \n",
       "0                0.2654          0.4601                   0.1189  \n",
       "\n",
       "[1 rows x 30 columns]"
      ]
     },
     "execution_count": 25,
     "metadata": {},
     "output_type": "execute_result"
    }
   ],
   "source": [
    "x.head(1)"
   ]
  },
  {
   "cell_type": "code",
   "execution_count": 26,
   "metadata": {},
   "outputs": [
    {
     "data": {
      "text/plain": [
       "0.9766081871345029"
      ]
     },
     "execution_count": 26,
     "metadata": {},
     "output_type": "execute_result"
    }
   ],
   "source": [
    "from sklearn.linear_model import LogisticRegression\n",
    "from sklearn.model_selection import train_test_split\n",
    "\n",
    "x_train, x_test, y_train, y_test = train_test_split(x, y, test_size=0.3, random_state=9)\n",
    "\n",
    "model = LogisticRegression(C=95, penalty='l1', solver='liblinear')\n",
    "model.fit(x_train, y_train)\n",
    "result = model.score(x_test, y_test)\n",
    "result"
   ]
  },
  {
   "cell_type": "code",
   "execution_count": 27,
   "metadata": {},
   "outputs": [
    {
     "data": {
      "text/plain": [
       "array([0, 1, 0, 1, 1, 0, 0, 0, 1, 0, 0, 1, 1, 1, 0, 1, 1, 1, 1, 1, 0, 1,\n",
       "       1, 0, 1, 1, 1, 1, 1, 0, 0, 1, 0, 0, 0, 0, 0, 1, 0, 1, 1, 1, 1, 1,\n",
       "       1, 1, 0, 0, 1, 0, 0, 1, 1, 1, 0, 1, 1, 0, 1, 1, 0, 0, 0, 1, 1, 1,\n",
       "       0, 1, 1, 1, 1, 1, 1, 1, 0, 0, 1, 1, 1, 1, 1, 0, 1, 0, 1, 1, 1, 1,\n",
       "       0, 1, 1, 1, 1, 1, 1, 0, 1, 1, 1, 0, 1, 0, 1, 1, 1, 1, 0, 1, 1, 1,\n",
       "       1, 1, 1, 0, 1, 1, 1, 1, 0, 1, 0, 0, 1, 1, 0, 1, 1, 1, 1, 0, 0, 0,\n",
       "       0, 0, 1, 1, 1, 1, 1, 0, 1, 0, 0, 1, 1, 1, 0, 0, 1, 1, 0, 1, 0, 1,\n",
       "       1, 0, 1, 1, 0, 1, 1, 0, 0, 0, 1, 1, 0, 1, 1, 1, 1])"
      ]
     },
     "execution_count": 27,
     "metadata": {},
     "output_type": "execute_result"
    }
   ],
   "source": [
    "predict = model.predict(x_test)\n",
    "predict"
   ]
  },
  {
   "cell_type": "code",
   "execution_count": 28,
   "metadata": {},
   "outputs": [
    {
     "data": {
      "text/plain": [
       "array([[7.92824504e-01, 2.07175496e-01],\n",
       "       [1.11639634e-01, 8.88360366e-01],\n",
       "       [1.00000000e+00, 3.04384011e-14],\n",
       "       [1.07621730e-01, 8.92378270e-01],\n",
       "       [1.90287907e-05, 9.99980971e-01],\n",
       "       [1.00000000e+00, 2.57455859e-20],\n",
       "       [1.00000000e+00, 5.53635944e-15],\n",
       "       [1.00000000e+00, 2.25960874e-11],\n",
       "       [4.28005962e-06, 9.99995720e-01],\n",
       "       [9.99999993e-01, 6.71092927e-09],\n",
       "       [1.00000000e+00, 3.06967360e-14],\n",
       "       [1.91874897e-05, 9.99980813e-01],\n",
       "       [3.71310648e-06, 9.99996287e-01],\n",
       "       [5.20575903e-05, 9.99947942e-01],\n",
       "       [9.99999889e-01, 1.11152249e-07],\n",
       "       [1.69752640e-02, 9.83024736e-01],\n",
       "       [2.80169946e-06, 9.99997198e-01],\n",
       "       [2.97720731e-02, 9.70227927e-01],\n",
       "       [1.67157361e-06, 9.99998328e-01],\n",
       "       [3.15529332e-07, 9.99999684e-01],\n",
       "       [1.00000000e+00, 2.73686473e-35],\n",
       "       [3.00368975e-07, 9.99999700e-01],\n",
       "       [9.78315706e-04, 9.99021684e-01],\n",
       "       [1.00000000e+00, 1.70703924e-10],\n",
       "       [8.54105209e-04, 9.99145895e-01],\n",
       "       [5.26972043e-03, 9.94730280e-01],\n",
       "       [1.55697273e-03, 9.98443027e-01],\n",
       "       [7.01599356e-09, 9.99999993e-01],\n",
       "       [2.26829205e-06, 9.99997732e-01],\n",
       "       [1.00000000e+00, 2.10377269e-14],\n",
       "       [1.00000000e+00, 1.00568393e-13],\n",
       "       [7.60396280e-03, 9.92396037e-01],\n",
       "       [9.99174491e-01, 8.25508694e-04],\n",
       "       [9.93120165e-01, 6.87983505e-03],\n",
       "       [9.99999739e-01, 2.61174174e-07],\n",
       "       [1.00000000e+00, 1.38153687e-13],\n",
       "       [1.00000000e+00, 3.90285700e-15],\n",
       "       [4.24267794e-03, 9.95757322e-01],\n",
       "       [9.99999921e-01, 7.90492576e-08],\n",
       "       [3.83501258e-06, 9.99996165e-01],\n",
       "       [4.14769942e-01, 5.85230058e-01],\n",
       "       [2.61417205e-01, 7.38582795e-01],\n",
       "       [1.61051356e-04, 9.99838949e-01],\n",
       "       [1.44860939e-05, 9.99985514e-01],\n",
       "       [5.15125449e-05, 9.99948487e-01],\n",
       "       [3.26135149e-07, 9.99999674e-01],\n",
       "       [7.27178555e-01, 2.72821445e-01],\n",
       "       [1.00000000e+00, 3.55377181e-21],\n",
       "       [1.38039339e-01, 8.61960661e-01],\n",
       "       [9.99947807e-01, 5.21928342e-05],\n",
       "       [7.58189228e-01, 2.41810772e-01],\n",
       "       [6.56441786e-04, 9.99343558e-01],\n",
       "       [4.59866874e-06, 9.99995401e-01],\n",
       "       [6.17933090e-06, 9.99993821e-01],\n",
       "       [1.00000000e+00, 2.95789306e-17],\n",
       "       [2.84465523e-04, 9.99715534e-01],\n",
       "       [6.75971288e-05, 9.99932403e-01],\n",
       "       [1.00000000e+00, 2.55909769e-18],\n",
       "       [5.71834836e-04, 9.99428165e-01],\n",
       "       [7.49764089e-05, 9.99925024e-01],\n",
       "       [9.99960543e-01, 3.94565342e-05],\n",
       "       [9.99959508e-01, 4.04922987e-05],\n",
       "       [1.00000000e+00, 7.63989650e-18],\n",
       "       [2.50906023e-04, 9.99749094e-01],\n",
       "       [2.73695826e-05, 9.99972630e-01],\n",
       "       [7.79001538e-04, 9.99220998e-01],\n",
       "       [1.00000000e+00, 2.49214192e-39],\n",
       "       [2.57011933e-02, 9.74298807e-01],\n",
       "       [7.78995770e-02, 9.22100423e-01],\n",
       "       [1.82804235e-06, 9.99998172e-01],\n",
       "       [2.69319749e-02, 9.73068025e-01],\n",
       "       [6.16648614e-05, 9.99938335e-01],\n",
       "       [9.96054105e-05, 9.99900395e-01],\n",
       "       [3.49124112e-07, 9.99999651e-01],\n",
       "       [1.00000000e+00, 2.75275140e-10],\n",
       "       [9.99997885e-01, 2.11509360e-06],\n",
       "       [3.40697706e-08, 9.99999966e-01],\n",
       "       [5.91394451e-07, 9.99999409e-01],\n",
       "       [9.48255671e-07, 9.99999052e-01],\n",
       "       [1.70252622e-05, 9.99982975e-01],\n",
       "       [8.14338580e-02, 9.18566142e-01],\n",
       "       [7.56347488e-01, 2.43652512e-01],\n",
       "       [2.63798363e-01, 7.36201637e-01],\n",
       "       [1.00000000e+00, 1.56584815e-10],\n",
       "       [1.78702883e-04, 9.99821297e-01],\n",
       "       [8.80658754e-05, 9.99911934e-01],\n",
       "       [3.44405974e-02, 9.65559403e-01],\n",
       "       [3.25327471e-05, 9.99967467e-01],\n",
       "       [1.00000000e+00, 5.18347953e-18],\n",
       "       [7.95600052e-02, 9.20439995e-01],\n",
       "       [3.62232609e-07, 9.99999638e-01],\n",
       "       [2.57867487e-04, 9.99742133e-01],\n",
       "       [1.73692357e-05, 9.99982631e-01],\n",
       "       [1.32244647e-02, 9.86775535e-01],\n",
       "       [1.53640441e-07, 9.99999846e-01],\n",
       "       [9.99999999e-01, 5.92612032e-10],\n",
       "       [1.49356373e-03, 9.98506436e-01],\n",
       "       [1.54638234e-02, 9.84536177e-01],\n",
       "       [1.65027663e-05, 9.99983497e-01],\n",
       "       [1.00000000e+00, 8.32131992e-14],\n",
       "       [3.27125438e-04, 9.99672875e-01],\n",
       "       [1.00000000e+00, 4.51859168e-12],\n",
       "       [6.38113974e-07, 9.99999362e-01],\n",
       "       [3.62161782e-07, 9.99999638e-01],\n",
       "       [1.11949821e-06, 9.99998881e-01],\n",
       "       [2.09163262e-08, 9.99999979e-01],\n",
       "       [9.99897837e-01, 1.02162877e-04],\n",
       "       [8.35135749e-02, 9.16486425e-01],\n",
       "       [1.44345482e-02, 9.85565452e-01],\n",
       "       [1.70955261e-05, 9.99982904e-01],\n",
       "       [2.95086764e-05, 9.99970491e-01],\n",
       "       [2.66491300e-05, 9.99973351e-01],\n",
       "       [5.15992669e-07, 9.99999484e-01],\n",
       "       [1.00000000e+00, 5.72757399e-14],\n",
       "       [1.60698963e-04, 9.99839301e-01],\n",
       "       [7.83221605e-05, 9.99921678e-01],\n",
       "       [2.31203062e-03, 9.97687969e-01],\n",
       "       [9.16682236e-04, 9.99083318e-01],\n",
       "       [1.00000000e+00, 3.83031729e-31],\n",
       "       [1.14352718e-04, 9.99885647e-01],\n",
       "       [1.00000000e+00, 6.07128308e-11],\n",
       "       [9.74464312e-01, 2.55356884e-02],\n",
       "       [3.87894807e-04, 9.99612105e-01],\n",
       "       [5.10157594e-03, 9.94898424e-01],\n",
       "       [1.00000000e+00, 6.81403553e-24],\n",
       "       [1.02821845e-05, 9.99989718e-01],\n",
       "       [1.67422463e-04, 9.99832578e-01],\n",
       "       [4.88871302e-04, 9.99511129e-01],\n",
       "       [3.26326618e-01, 6.73673382e-01],\n",
       "       [9.99999260e-01, 7.40136087e-07],\n",
       "       [1.00000000e+00, 2.78015548e-12],\n",
       "       [1.00000000e+00, 6.59478839e-13],\n",
       "       [9.99999033e-01, 9.66549191e-07],\n",
       "       [9.99998591e-01, 1.40939811e-06],\n",
       "       [2.98942457e-04, 9.99701058e-01],\n",
       "       [1.63463833e-05, 9.99983654e-01],\n",
       "       [4.86179090e-04, 9.99513821e-01],\n",
       "       [3.02325607e-05, 9.99969767e-01],\n",
       "       [8.53494073e-06, 9.99991465e-01],\n",
       "       [1.00000000e+00, 7.05840154e-23],\n",
       "       [4.54277297e-05, 9.99954572e-01],\n",
       "       [1.00000000e+00, 3.34894846e-11],\n",
       "       [9.99986910e-01, 1.30902769e-05],\n",
       "       [1.14724585e-04, 9.99885275e-01],\n",
       "       [1.34021111e-07, 9.99999866e-01],\n",
       "       [4.87384907e-04, 9.99512615e-01],\n",
       "       [1.00000000e+00, 6.45351438e-11],\n",
       "       [1.00000000e+00, 2.70323908e-27],\n",
       "       [1.27833689e-03, 9.98721663e-01],\n",
       "       [8.49489931e-05, 9.99915051e-01],\n",
       "       [9.99267432e-01, 7.32567942e-04],\n",
       "       [6.98338265e-02, 9.30166174e-01],\n",
       "       [9.92596401e-01, 7.40359947e-03],\n",
       "       [1.74129179e-04, 9.99825871e-01],\n",
       "       [8.87728774e-03, 9.91122712e-01],\n",
       "       [9.99361905e-01, 6.38094963e-04],\n",
       "       [3.85613374e-05, 9.99961439e-01],\n",
       "       [1.87456446e-06, 9.99998125e-01],\n",
       "       [1.00000000e+00, 2.07739509e-16],\n",
       "       [3.45266820e-06, 9.99996547e-01],\n",
       "       [3.15385581e-05, 9.99968461e-01],\n",
       "       [9.36259541e-01, 6.37404594e-02],\n",
       "       [7.83198851e-01, 2.16801149e-01],\n",
       "       [1.00000000e+00, 3.81201451e-46],\n",
       "       [3.45323355e-05, 9.99965468e-01],\n",
       "       [4.87029134e-08, 9.99999951e-01],\n",
       "       [1.00000000e+00, 1.06466012e-24],\n",
       "       [1.19566135e-06, 9.99998804e-01],\n",
       "       [1.59832906e-04, 9.99840167e-01],\n",
       "       [1.96370986e-09, 9.99999998e-01],\n",
       "       [2.74070414e-06, 9.99997259e-01]])"
      ]
     },
     "execution_count": 28,
     "metadata": {},
     "output_type": "execute_result"
    }
   ],
   "source": [
    "predict = model.predict_proba(x_test)\n",
    "predict"
   ]
  },
  {
   "cell_type": "code",
   "execution_count": 29,
   "metadata": {},
   "outputs": [
    {
     "data": {
      "text/plain": [
       "array([2.07175496e-01, 8.88360366e-01, 3.04384011e-14, 8.92378270e-01,\n",
       "       9.99980971e-01, 2.57455859e-20, 5.53635944e-15, 2.25960874e-11,\n",
       "       9.99995720e-01, 6.71092927e-09, 3.06967360e-14, 9.99980813e-01,\n",
       "       9.99996287e-01, 9.99947942e-01, 1.11152249e-07, 9.83024736e-01,\n",
       "       9.99997198e-01, 9.70227927e-01, 9.99998328e-01, 9.99999684e-01,\n",
       "       2.73686473e-35, 9.99999700e-01, 9.99021684e-01, 1.70703924e-10,\n",
       "       9.99145895e-01, 9.94730280e-01, 9.98443027e-01, 9.99999993e-01,\n",
       "       9.99997732e-01, 2.10377269e-14, 1.00568393e-13, 9.92396037e-01,\n",
       "       8.25508694e-04, 6.87983505e-03, 2.61174174e-07, 1.38153687e-13,\n",
       "       3.90285700e-15, 9.95757322e-01, 7.90492576e-08, 9.99996165e-01,\n",
       "       5.85230058e-01, 7.38582795e-01, 9.99838949e-01, 9.99985514e-01,\n",
       "       9.99948487e-01, 9.99999674e-01, 2.72821445e-01, 3.55377181e-21,\n",
       "       8.61960661e-01, 5.21928342e-05, 2.41810772e-01, 9.99343558e-01,\n",
       "       9.99995401e-01, 9.99993821e-01, 2.95789306e-17, 9.99715534e-01,\n",
       "       9.99932403e-01, 2.55909769e-18, 9.99428165e-01, 9.99925024e-01,\n",
       "       3.94565342e-05, 4.04922987e-05, 7.63989650e-18, 9.99749094e-01,\n",
       "       9.99972630e-01, 9.99220998e-01, 2.49214192e-39, 9.74298807e-01,\n",
       "       9.22100423e-01, 9.99998172e-01, 9.73068025e-01, 9.99938335e-01,\n",
       "       9.99900395e-01, 9.99999651e-01, 2.75275140e-10, 2.11509360e-06,\n",
       "       9.99999966e-01, 9.99999409e-01, 9.99999052e-01, 9.99982975e-01,\n",
       "       9.18566142e-01, 2.43652512e-01, 7.36201637e-01, 1.56584815e-10,\n",
       "       9.99821297e-01, 9.99911934e-01, 9.65559403e-01, 9.99967467e-01,\n",
       "       5.18347953e-18, 9.20439995e-01, 9.99999638e-01, 9.99742133e-01,\n",
       "       9.99982631e-01, 9.86775535e-01, 9.99999846e-01, 5.92612032e-10,\n",
       "       9.98506436e-01, 9.84536177e-01, 9.99983497e-01, 8.32131992e-14,\n",
       "       9.99672875e-01, 4.51859168e-12, 9.99999362e-01, 9.99999638e-01,\n",
       "       9.99998881e-01, 9.99999979e-01, 1.02162877e-04, 9.16486425e-01,\n",
       "       9.85565452e-01, 9.99982904e-01, 9.99970491e-01, 9.99973351e-01,\n",
       "       9.99999484e-01, 5.72757399e-14, 9.99839301e-01, 9.99921678e-01,\n",
       "       9.97687969e-01, 9.99083318e-01, 3.83031729e-31, 9.99885647e-01,\n",
       "       6.07128308e-11, 2.55356884e-02, 9.99612105e-01, 9.94898424e-01,\n",
       "       6.81403553e-24, 9.99989718e-01, 9.99832578e-01, 9.99511129e-01,\n",
       "       6.73673382e-01, 7.40136087e-07, 2.78015548e-12, 6.59478839e-13,\n",
       "       9.66549191e-07, 1.40939811e-06, 9.99701058e-01, 9.99983654e-01,\n",
       "       9.99513821e-01, 9.99969767e-01, 9.99991465e-01, 7.05840154e-23,\n",
       "       9.99954572e-01, 3.34894846e-11, 1.30902769e-05, 9.99885275e-01,\n",
       "       9.99999866e-01, 9.99512615e-01, 6.45351438e-11, 2.70323908e-27,\n",
       "       9.98721663e-01, 9.99915051e-01, 7.32567942e-04, 9.30166174e-01,\n",
       "       7.40359947e-03, 9.99825871e-01, 9.91122712e-01, 6.38094963e-04,\n",
       "       9.99961439e-01, 9.99998125e-01, 2.07739509e-16, 9.99996547e-01,\n",
       "       9.99968461e-01, 6.37404594e-02, 2.16801149e-01, 3.81201451e-46,\n",
       "       9.99965468e-01, 9.99999951e-01, 1.06466012e-24, 9.99998804e-01,\n",
       "       9.99840167e-01, 9.99999998e-01, 9.99997259e-01])"
      ]
     },
     "execution_count": 29,
     "metadata": {},
     "output_type": "execute_result"
    }
   ],
   "source": [
    "probs = predict[:,1] # contém as probabilidades da classe positiva (1).\n",
    "probs"
   ]
  },
  {
   "cell_type": "code",
   "execution_count": 30,
   "metadata": {},
   "outputs": [
    {
     "name": "stdout",
     "output_type": "stream",
     "text": [
      "[0.         0.         0.         0.01612903 0.01612903 0.03225806\n",
      " 0.03225806 0.0483871  0.0483871  0.09677419 0.09677419 1.        ] \n",
      " [0.         0.00917431 0.91743119 0.91743119 0.95412844 0.95412844\n",
      " 0.98165138 0.98165138 0.99082569 0.99082569 1.         1.        ] \n",
      " [2.00000000e+00 9.99999998e-01 9.30166174e-01 9.22100423e-01\n",
      " 8.92378270e-01 8.88360366e-01 7.36201637e-01 6.73673382e-01\n",
      " 5.85230058e-01 2.41810772e-01 2.16801149e-01 3.81201451e-46]\n"
     ]
    }
   ],
   "source": [
    "from sklearn.metrics import roc_curve\n",
    "# fpr = false positve rates\n",
    "# tpr = true positive rates\n",
    "# thresholds = point in the sigmoid function\n",
    "fpr, tpr, thresholds = roc_curve(y_test, probs)\n",
    "print(fpr, '\\n', tpr, '\\n', thresholds )"
   ]
  },
  {
   "cell_type": "code",
   "execution_count": 31,
   "metadata": {},
   "outputs": [
    {
     "data": {
      "image/png": "[encoded data removed]",
      "text/plain": [
       "<Figure size 640x480 with 1 Axes>"
      ]
     },
     "metadata": {},
     "output_type": "display_data"
    }
   ],
   "source": [
    "import matplotlib.pyplot as plt\n",
    "plt.scatter(fpr,tpr)\n",
    "plt.show()"
   ]
  },
  {
   "cell_type": "code",
   "execution_count": 32,
   "metadata": {},
   "outputs": [
    {
     "data": {
      "text/plain": [
       "0.9971885173128144"
      ]
     },
     "execution_count": 32,
     "metadata": {},
     "output_type": "execute_result"
    }
   ],
   "source": [
    "from sklearn.metrics import roc_auc_score\n",
    "roc_auc_score(y_test, probs)"
   ]
  }
 ],
 "metadata": {
  "kernelspec": {
   "display_name": "base",
   "language": "python",
   "name": "python3"
  },
  "language_info": {
   "codemirror_mode": {
    "name": "ipython",
    "version": 3
   },
   "file_extension": ".py",
   "mimetype": "text/x-python",
   "name": "python",
   "nbconvert_exporter": "python",
   "pygments_lexer": "ipython3",
   "version": "3.9.13"
  }
 },
 "nbformat": 4,
 "nbformat_minor": 2
}
