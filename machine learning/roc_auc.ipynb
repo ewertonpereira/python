{
 "cells": [
  {
   "cell_type": "code",
   "execution_count": 3,
   "metadata": {},
   "outputs": [],
   "source": [
    "import pandas as pd\n",
    "from sklearn.datasets import load_breast_cancer\n",
    "\n",
    "data = load_breast_cancer()\n",
    "x = pd.DataFrame(data.data, columns=[data.feature_names])\n",
    "y = pd.Series(data.target)"
   ]
  },
  {
   "cell_type": "code",
   "execution_count": 4,
   "metadata": {},
   "outputs": [
    {
     "data": {
      "text/plain": [
       "level_0    object\n",
       "dtype: object"
      ]
     },
     "execution_count": 4,
     "metadata": {},
     "output_type": "execute_result"
    }
   ],
   "source": [
    "x.columns.dtypes"
   ]
  },
  {
   "cell_type": "code",
   "execution_count": 5,
   "metadata": {},
   "outputs": [],
   "source": [
    "\n",
    "#Transformar o MultiIndex em um Index simples\n",
    "x.columns = ['_'.join(map(str, col)) for col in x.columns.to_flat_index()]"
   ]
  },
  {
   "cell_type": "code",
   "execution_count": 6,
   "metadata": {},
   "outputs": [
    {
     "data": {
      "text/html": [
       "<div>\n",
       "<style scoped>\n",
       "    .dataframe tbody tr th:only-of-type {\n",
       "        vertical-align: middle;\n",
       "    }\n",
       "\n",
       "    .dataframe tbody tr th {\n",
       "        vertical-align: top;\n",
       "    }\n",
       "\n",
       "    .dataframe thead th {\n",
       "        text-align: right;\n",
       "    }\n",
       "</style>\n",
       "<table border=\"1\" class=\"dataframe\">\n",
       "  <thead>\n",
       "    <tr style=\"text-align: right;\">\n",
       "      <th></th>\n",
       "      <th>mean radius</th>\n",
       "      <th>mean texture</th>\n",
       "      <th>mean perimeter</th>\n",
       "      <th>mean area</th>\n",
       "      <th>mean smoothness</th>\n",
       "      <th>mean compactness</th>\n",
       "      <th>mean concavity</th>\n",
       "      <th>mean concave points</th>\n",
       "      <th>mean symmetry</th>\n",
       "      <th>mean fractal dimension</th>\n",
       "      <th>...</th>\n",
       "      <th>worst radius</th>\n",
       "      <th>worst texture</th>\n",
       "      <th>worst perimeter</th>\n",
       "      <th>worst area</th>\n",
       "      <th>worst smoothness</th>\n",
       "      <th>worst compactness</th>\n",
       "      <th>worst concavity</th>\n",
       "      <th>worst concave points</th>\n",
       "      <th>worst symmetry</th>\n",
       "      <th>worst fractal dimension</th>\n",
       "    </tr>\n",
       "  </thead>\n",
       "  <tbody>\n",
       "    <tr>\n",
       "      <th>0</th>\n",
       "      <td>17.99</td>\n",
       "      <td>10.38</td>\n",
       "      <td>122.8</td>\n",
       "      <td>1001.0</td>\n",
       "      <td>0.1184</td>\n",
       "      <td>0.2776</td>\n",
       "      <td>0.3001</td>\n",
       "      <td>0.1471</td>\n",
       "      <td>0.2419</td>\n",
       "      <td>0.07871</td>\n",
       "      <td>...</td>\n",
       "      <td>25.38</td>\n",
       "      <td>17.33</td>\n",
       "      <td>184.6</td>\n",
       "      <td>2019.0</td>\n",
       "      <td>0.1622</td>\n",
       "      <td>0.6656</td>\n",
       "      <td>0.7119</td>\n",
       "      <td>0.2654</td>\n",
       "      <td>0.4601</td>\n",
       "      <td>0.1189</td>\n",
       "    </tr>\n",
       "  </tbody>\n",
       "</table>\n",
       "<p>1 rows × 30 columns</p>\n",
       "</div>"
      ],
      "text/plain": [
       "   mean radius  mean texture  mean perimeter  mean area  mean smoothness  \\\n",
       "0        17.99         10.38           122.8     1001.0           0.1184   \n",
       "\n",
       "   mean compactness  mean concavity  mean concave points  mean symmetry  \\\n",
       "0            0.2776          0.3001               0.1471         0.2419   \n",
       "\n",
       "   mean fractal dimension  ...  worst radius  worst texture  worst perimeter  \\\n",
       "0                 0.07871  ...         25.38          17.33            184.6   \n",
       "\n",
       "   worst area  worst smoothness  worst compactness  worst concavity  \\\n",
       "0      2019.0            0.1622             0.6656           0.7119   \n",
       "\n",
       "   worst concave points  worst symmetry  worst fractal dimension  \n",
       "0                0.2654          0.4601                   0.1189  \n",
       "\n",
       "[1 rows x 30 columns]"
      ]
     },
     "execution_count": 6,
     "metadata": {},
     "output_type": "execute_result"
    }
   ],
   "source": [
    "x.head(1)"
   ]
  },
  {
   "cell_type": "code",
   "execution_count": 7,
   "metadata": {},
   "outputs": [
    {
     "data": {
      "text/plain": [
       "0.9766081871345029"
      ]
     },
     "execution_count": 7,
     "metadata": {},
     "output_type": "execute_result"
    }
   ],
   "source": [
    "from sklearn.linear_model import LogisticRegression\n",
    "from sklearn.model_selection import train_test_split\n",
    "\n",
    "x_train, x_test, y_train, y_test = train_test_split(x, y, test_size=0.3, random_state=9)\n",
    "\n",
    "model = LogisticRegression(C=95, penalty='l1', solver='liblinear')\n",
    "model.fit(x_train, y_train)\n",
    "result = model.score(x_test, y_test)\n",
    "result"
   ]
  },
  {
   "cell_type": "code",
   "execution_count": 8,
   "metadata": {},
   "outputs": [
    {
     "data": {
      "text/plain": [
       "array([0, 1, 0, 1, 1, 0, 0, 0, 1, 0, 0, 1, 1, 1, 0, 1, 1, 1, 1, 1, 0, 1,\n",
       "       1, 0, 1, 1, 1, 1, 1, 0, 0, 1, 0, 0, 0, 0, 0, 1, 0, 1, 1, 1, 1, 1,\n",
       "       1, 1, 0, 0, 1, 0, 0, 1, 1, 1, 0, 1, 1, 0, 1, 1, 0, 0, 0, 1, 1, 1,\n",
       "       0, 1, 1, 1, 1, 1, 1, 1, 0, 0, 1, 1, 1, 1, 1, 0, 1, 0, 1, 1, 1, 1,\n",
       "       0, 1, 1, 1, 1, 1, 1, 0, 1, 1, 1, 0, 1, 0, 1, 1, 1, 1, 0, 1, 1, 1,\n",
       "       1, 1, 1, 0, 1, 1, 1, 1, 0, 1, 0, 0, 1, 1, 0, 1, 1, 1, 1, 0, 0, 0,\n",
       "       0, 0, 1, 1, 1, 1, 1, 0, 1, 0, 0, 1, 1, 1, 0, 0, 1, 1, 0, 1, 0, 1,\n",
       "       1, 0, 1, 1, 0, 1, 1, 0, 0, 0, 1, 1, 0, 1, 1, 1, 1])"
      ]
     },
     "execution_count": 8,
     "metadata": {},
     "output_type": "execute_result"
    }
   ],
   "source": [
    "predict = model.predict(x_test)\n",
    "predict"
   ]
  },
  {
   "cell_type": "code",
   "execution_count": 9,
   "metadata": {},
   "outputs": [
    {
     "data": {
      "text/plain": [
       "array([[7.92783153e-01, 2.07216847e-01],\n",
       "       [1.11620621e-01, 8.88379379e-01],\n",
       "       [1.00000000e+00, 2.89409276e-14],\n",
       "       [1.07492803e-01, 8.92507197e-01],\n",
       "       [1.92063985e-05, 9.99980794e-01],\n",
       "       [1.00000000e+00, 2.36168234e-20],\n",
       "       [1.00000000e+00, 5.25635999e-15],\n",
       "       [1.00000000e+00, 2.20533476e-11],\n",
       "       [4.33095153e-06, 9.99995669e-01],\n",
       "       [9.99999993e-01, 6.70748986e-09],\n",
       "       [1.00000000e+00, 2.84150562e-14],\n",
       "       [1.93286667e-05, 9.99980671e-01],\n",
       "       [3.68563939e-06, 9.99996314e-01],\n",
       "       [5.20026886e-05, 9.99947997e-01],\n",
       "       [9.99999887e-01, 1.13085662e-07],\n",
       "       [1.69087050e-02, 9.83091295e-01],\n",
       "       [2.84629276e-06, 9.99997154e-01],\n",
       "       [2.97460408e-02, 9.70253959e-01],\n",
       "       [1.67086746e-06, 9.99998329e-01],\n",
       "       [3.18234509e-07, 9.99999682e-01],\n",
       "       [1.00000000e+00, 2.17027889e-35],\n",
       "       [3.03155459e-07, 9.99999697e-01],\n",
       "       [9.78476620e-04, 9.99021523e-01],\n",
       "       [1.00000000e+00, 1.69993078e-10],\n",
       "       [8.60618718e-04, 9.99139381e-01],\n",
       "       [5.25699240e-03, 9.94743008e-01],\n",
       "       [1.55246732e-03, 9.98447533e-01],\n",
       "       [7.10324755e-09, 9.99999993e-01],\n",
       "       [2.28112553e-06, 9.99997719e-01],\n",
       "       [1.00000000e+00, 1.99680637e-14],\n",
       "       [1.00000000e+00, 9.50493497e-14],\n",
       "       [7.62729598e-03, 9.92372704e-01],\n",
       "       [9.99178822e-01, 8.21178342e-04],\n",
       "       [9.93152650e-01, 6.84734975e-03],\n",
       "       [9.99999743e-01, 2.57249596e-07],\n",
       "       [1.00000000e+00, 1.34442832e-13],\n",
       "       [1.00000000e+00, 3.71620706e-15],\n",
       "       [4.26497458e-03, 9.95735025e-01],\n",
       "       [9.99999922e-01, 7.82781168e-08],\n",
       "       [3.86194097e-06, 9.99996138e-01],\n",
       "       [4.15143033e-01, 5.84856967e-01],\n",
       "       [2.60334369e-01, 7.39665631e-01],\n",
       "       [1.60763172e-04, 9.99839237e-01],\n",
       "       [1.46046467e-05, 9.99985395e-01],\n",
       "       [5.16837937e-05, 9.99948316e-01],\n",
       "       [3.26238659e-07, 9.99999674e-01],\n",
       "       [7.29100943e-01, 2.70899057e-01],\n",
       "       [1.00000000e+00, 3.23087906e-21],\n",
       "       [1.37692391e-01, 8.62307609e-01],\n",
       "       [9.99947662e-01, 5.23377955e-05],\n",
       "       [7.58627269e-01, 2.41372731e-01],\n",
       "       [6.47165335e-04, 9.99352835e-01],\n",
       "       [4.63193245e-06, 9.99995368e-01],\n",
       "       [6.19621352e-06, 9.99993804e-01],\n",
       "       [1.00000000e+00, 2.79177100e-17],\n",
       "       [2.84979429e-04, 9.99715021e-01],\n",
       "       [6.79783233e-05, 9.99932022e-01],\n",
       "       [1.00000000e+00, 2.41967169e-18],\n",
       "       [5.72749987e-04, 9.99427250e-01],\n",
       "       [7.48769824e-05, 9.99925123e-01],\n",
       "       [9.99960468e-01, 3.95324221e-05],\n",
       "       [9.99959636e-01, 4.03643311e-05],\n",
       "       [1.00000000e+00, 7.11199774e-18],\n",
       "       [2.51938611e-04, 9.99748061e-01],\n",
       "       [2.73659213e-05, 9.99972634e-01],\n",
       "       [7.77833070e-04, 9.99222167e-01],\n",
       "       [1.00000000e+00, 2.01042530e-39],\n",
       "       [2.56933533e-02, 9.74306647e-01],\n",
       "       [7.79966788e-02, 9.22003321e-01],\n",
       "       [1.86006066e-06, 9.99998140e-01],\n",
       "       [2.69632661e-02, 9.73036734e-01],\n",
       "       [6.18571118e-05, 9.99938143e-01],\n",
       "       [1.00008420e-04, 9.99899992e-01],\n",
       "       [3.55472077e-07, 9.99999645e-01],\n",
       "       [1.00000000e+00, 2.60670506e-10],\n",
       "       [9.99997887e-01, 2.11275232e-06],\n",
       "       [3.50934545e-08, 9.99999965e-01],\n",
       "       [5.94595653e-07, 9.99999405e-01],\n",
       "       [9.52457417e-07, 9.99999048e-01],\n",
       "       [1.72607684e-05, 9.99982739e-01],\n",
       "       [8.15655130e-02, 9.18434487e-01],\n",
       "       [7.58110874e-01, 2.41889126e-01],\n",
       "       [2.63081268e-01, 7.36918732e-01],\n",
       "       [1.00000000e+00, 1.50280351e-10],\n",
       "       [1.80306450e-04, 9.99819694e-01],\n",
       "       [8.80623102e-05, 9.99911938e-01],\n",
       "       [3.43436058e-02, 9.65656394e-01],\n",
       "       [3.31381126e-05, 9.99966862e-01],\n",
       "       [1.00000000e+00, 4.94509966e-18],\n",
       "       [7.94498224e-02, 9.20550178e-01],\n",
       "       [3.63592595e-07, 9.99999636e-01],\n",
       "       [2.59889809e-04, 9.99740110e-01],\n",
       "       [1.74763607e-05, 9.99982524e-01],\n",
       "       [1.32530677e-02, 9.86746932e-01],\n",
       "       [1.56034150e-07, 9.99999844e-01],\n",
       "       [9.99999999e-01, 5.75520305e-10],\n",
       "       [1.49750986e-03, 9.98502490e-01],\n",
       "       [1.55012347e-02, 9.84498765e-01],\n",
       "       [1.66128178e-05, 9.99983387e-01],\n",
       "       [1.00000000e+00, 7.92353021e-14],\n",
       "       [3.27359871e-04, 9.99672640e-01],\n",
       "       [1.00000000e+00, 4.44778792e-12],\n",
       "       [6.45846745e-07, 9.99999354e-01],\n",
       "       [3.66396219e-07, 9.99999634e-01],\n",
       "       [1.12450904e-06, 9.99998875e-01],\n",
       "       [2.11735105e-08, 9.99999979e-01],\n",
       "       [9.99899129e-01, 1.00871290e-04],\n",
       "       [8.34392397e-02, 9.16560760e-01],\n",
       "       [1.44197150e-02, 9.85580285e-01],\n",
       "       [1.71809663e-05, 9.99982819e-01],\n",
       "       [2.95962057e-05, 9.99970404e-01],\n",
       "       [2.69952088e-05, 9.99973005e-01],\n",
       "       [5.17941749e-07, 9.99999482e-01],\n",
       "       [1.00000000e+00, 5.48107886e-14],\n",
       "       [1.60557199e-04, 9.99839443e-01],\n",
       "       [7.84628569e-05, 9.99921537e-01],\n",
       "       [2.30866416e-03, 9.97691336e-01],\n",
       "       [9.18089920e-04, 9.99081910e-01],\n",
       "       [1.00000000e+00, 3.28791153e-31],\n",
       "       [1.15777790e-04, 9.99884222e-01],\n",
       "       [1.00000000e+00, 5.81322659e-11],\n",
       "       [9.74710806e-01, 2.52891944e-02],\n",
       "       [3.98371679e-04, 9.99601628e-01],\n",
       "       [5.10428560e-03, 9.94895714e-01],\n",
       "       [1.00000000e+00, 6.16252343e-24],\n",
       "       [1.04019232e-05, 9.99989598e-01],\n",
       "       [1.67838791e-04, 9.99832161e-01],\n",
       "       [4.91214407e-04, 9.99508786e-01],\n",
       "       [3.26908608e-01, 6.73091392e-01],\n",
       "       [9.99999266e-01, 7.33579364e-07],\n",
       "       [1.00000000e+00, 2.66657235e-12],\n",
       "       [1.00000000e+00, 6.27003165e-13],\n",
       "       [9.99999050e-01, 9.49610904e-07],\n",
       "       [9.99998599e-01, 1.40071429e-06],\n",
       "       [2.99103055e-04, 9.99700897e-01],\n",
       "       [1.63053839e-05, 9.99983695e-01],\n",
       "       [4.86690638e-04, 9.99513309e-01],\n",
       "       [3.06576362e-05, 9.99969342e-01],\n",
       "       [8.55379589e-06, 9.99991446e-01],\n",
       "       [1.00000000e+00, 6.44621780e-23],\n",
       "       [4.68822020e-05, 9.99953118e-01],\n",
       "       [1.00000000e+00, 3.17515326e-11],\n",
       "       [9.99986916e-01, 1.30838142e-05],\n",
       "       [1.14304099e-04, 9.99885696e-01],\n",
       "       [1.35115185e-07, 9.99999865e-01],\n",
       "       [4.89631476e-04, 9.99510369e-01],\n",
       "       [1.00000000e+00, 6.31443540e-11],\n",
       "       [1.00000000e+00, 2.33645755e-27],\n",
       "       [1.27736321e-03, 9.98722637e-01],\n",
       "       [8.52404861e-05, 9.99914760e-01],\n",
       "       [9.99274770e-01, 7.25229615e-04],\n",
       "       [6.79147829e-02, 9.32085217e-01],\n",
       "       [9.92566115e-01, 7.43388467e-03],\n",
       "       [1.74267269e-04, 9.99825733e-01],\n",
       "       [8.90731700e-03, 9.91092683e-01],\n",
       "       [9.99361672e-01, 6.38328076e-04],\n",
       "       [3.88301360e-05, 9.99961170e-01],\n",
       "       [1.89801319e-06, 9.99998102e-01],\n",
       "       [1.00000000e+00, 1.94586163e-16],\n",
       "       [3.46997224e-06, 9.99996530e-01],\n",
       "       [3.19401189e-05, 9.99968060e-01],\n",
       "       [9.36654765e-01, 6.33452354e-02],\n",
       "       [7.85736727e-01, 2.14263273e-01],\n",
       "       [1.00000000e+00, 2.53252935e-46],\n",
       "       [3.45158076e-05, 9.99965484e-01],\n",
       "       [4.91909355e-08, 9.99999951e-01],\n",
       "       [1.00000000e+00, 9.07184627e-25],\n",
       "       [1.20143188e-06, 9.99998799e-01],\n",
       "       [1.60755234e-04, 9.99839245e-01],\n",
       "       [1.98572669e-09, 9.99999998e-01],\n",
       "       [2.74426374e-06, 9.99997256e-01]])"
      ]
     },
     "execution_count": 9,
     "metadata": {},
     "output_type": "execute_result"
    }
   ],
   "source": [
    "predict = model.predict_proba(x_test)\n",
    "predict"
   ]
  },
  {
   "cell_type": "code",
   "execution_count": 10,
   "metadata": {},
   "outputs": [
    {
     "data": {
      "text/plain": [
       "array([2.07216847e-01, 8.88379379e-01, 2.89409276e-14, 8.92507197e-01,\n",
       "       9.99980794e-01, 2.36168234e-20, 5.25635999e-15, 2.20533476e-11,\n",
       "       9.99995669e-01, 6.70748986e-09, 2.84150562e-14, 9.99980671e-01,\n",
       "       9.99996314e-01, 9.99947997e-01, 1.13085662e-07, 9.83091295e-01,\n",
       "       9.99997154e-01, 9.70253959e-01, 9.99998329e-01, 9.99999682e-01,\n",
       "       2.17027889e-35, 9.99999697e-01, 9.99021523e-01, 1.69993078e-10,\n",
       "       9.99139381e-01, 9.94743008e-01, 9.98447533e-01, 9.99999993e-01,\n",
       "       9.99997719e-01, 1.99680637e-14, 9.50493497e-14, 9.92372704e-01,\n",
       "       8.21178342e-04, 6.84734975e-03, 2.57249596e-07, 1.34442832e-13,\n",
       "       3.71620706e-15, 9.95735025e-01, 7.82781168e-08, 9.99996138e-01,\n",
       "       5.84856967e-01, 7.39665631e-01, 9.99839237e-01, 9.99985395e-01,\n",
       "       9.99948316e-01, 9.99999674e-01, 2.70899057e-01, 3.23087906e-21,\n",
       "       8.62307609e-01, 5.23377955e-05, 2.41372731e-01, 9.99352835e-01,\n",
       "       9.99995368e-01, 9.99993804e-01, 2.79177100e-17, 9.99715021e-01,\n",
       "       9.99932022e-01, 2.41967169e-18, 9.99427250e-01, 9.99925123e-01,\n",
       "       3.95324221e-05, 4.03643311e-05, 7.11199774e-18, 9.99748061e-01,\n",
       "       9.99972634e-01, 9.99222167e-01, 2.01042530e-39, 9.74306647e-01,\n",
       "       9.22003321e-01, 9.99998140e-01, 9.73036734e-01, 9.99938143e-01,\n",
       "       9.99899992e-01, 9.99999645e-01, 2.60670506e-10, 2.11275232e-06,\n",
       "       9.99999965e-01, 9.99999405e-01, 9.99999048e-01, 9.99982739e-01,\n",
       "       9.18434487e-01, 2.41889126e-01, 7.36918732e-01, 1.50280351e-10,\n",
       "       9.99819694e-01, 9.99911938e-01, 9.65656394e-01, 9.99966862e-01,\n",
       "       4.94509966e-18, 9.20550178e-01, 9.99999636e-01, 9.99740110e-01,\n",
       "       9.99982524e-01, 9.86746932e-01, 9.99999844e-01, 5.75520305e-10,\n",
       "       9.98502490e-01, 9.84498765e-01, 9.99983387e-01, 7.92353021e-14,\n",
       "       9.99672640e-01, 4.44778792e-12, 9.99999354e-01, 9.99999634e-01,\n",
       "       9.99998875e-01, 9.99999979e-01, 1.00871290e-04, 9.16560760e-01,\n",
       "       9.85580285e-01, 9.99982819e-01, 9.99970404e-01, 9.99973005e-01,\n",
       "       9.99999482e-01, 5.48107886e-14, 9.99839443e-01, 9.99921537e-01,\n",
       "       9.97691336e-01, 9.99081910e-01, 3.28791153e-31, 9.99884222e-01,\n",
       "       5.81322659e-11, 2.52891944e-02, 9.99601628e-01, 9.94895714e-01,\n",
       "       6.16252343e-24, 9.99989598e-01, 9.99832161e-01, 9.99508786e-01,\n",
       "       6.73091392e-01, 7.33579364e-07, 2.66657235e-12, 6.27003165e-13,\n",
       "       9.49610904e-07, 1.40071429e-06, 9.99700897e-01, 9.99983695e-01,\n",
       "       9.99513309e-01, 9.99969342e-01, 9.99991446e-01, 6.44621780e-23,\n",
       "       9.99953118e-01, 3.17515326e-11, 1.30838142e-05, 9.99885696e-01,\n",
       "       9.99999865e-01, 9.99510369e-01, 6.31443540e-11, 2.33645755e-27,\n",
       "       9.98722637e-01, 9.99914760e-01, 7.25229615e-04, 9.32085217e-01,\n",
       "       7.43388467e-03, 9.99825733e-01, 9.91092683e-01, 6.38328076e-04,\n",
       "       9.99961170e-01, 9.99998102e-01, 1.94586163e-16, 9.99996530e-01,\n",
       "       9.99968060e-01, 6.33452354e-02, 2.14263273e-01, 2.53252935e-46,\n",
       "       9.99965484e-01, 9.99999951e-01, 9.07184627e-25, 9.99998799e-01,\n",
       "       9.99839245e-01, 9.99999998e-01, 9.99997256e-01])"
      ]
     },
     "execution_count": 10,
     "metadata": {},
     "output_type": "execute_result"
    }
   ],
   "source": [
    "probs = predict[:,1] # contém as probabilidades da classe positiva (1).\n",
    "probs"
   ]
  },
  {
   "cell_type": "code",
   "execution_count": 11,
   "metadata": {},
   "outputs": [
    {
     "name": "stdout",
     "output_type": "stream",
     "text": [
      "[0.         0.         0.         0.01612903 0.01612903 0.03225806\n",
      " 0.03225806 0.0483871  0.0483871  0.09677419 0.09677419 1.        ] \n",
      " [0.         0.00917431 0.91743119 0.91743119 0.95412844 0.95412844\n",
      " 0.98165138 0.98165138 0.99082569 0.99082569 1.         1.        ] \n",
      " [           inf 9.99999998e-01 9.32085217e-01 9.22003321e-01\n",
      " 8.92507197e-01 8.88379379e-01 7.36918732e-01 6.73091392e-01\n",
      " 5.84856967e-01 2.41372731e-01 2.14263273e-01 2.53252935e-46]\n"
     ]
    }
   ],
   "source": [
    "from sklearn.metrics import roc_curve\n",
    "# fpr = false positve rates\n",
    "# tpr = true positive rates\n",
    "# thresholds = point in the sigmoid function\n",
    "fpr, tpr, thresholds = roc_curve(y_test, probs)\n",
    "print(fpr, '\\n', tpr, '\\n', thresholds )"
   ]
  },
  {
   "cell_type": "code",
   "execution_count": 12,
   "metadata": {},
   "outputs": [
    {
     "data": {
      "image/png": "[encoded data removed]",
      "text/plain": [
       "<Figure size 640x480 with 1 Axes>"
      ]
     },
     "metadata": {},
     "output_type": "display_data"
    }
   ],
   "source": [
    "import matplotlib.pyplot as plt\n",
    "plt.scatter(fpr,tpr)\n",
    "plt.show()"
   ]
  },
  {
   "cell_type": "code",
   "execution_count": 13,
   "metadata": {},
   "outputs": [
    {
     "data": {
      "text/plain": [
       "0.9971885173128144"
      ]
     },
     "execution_count": 13,
     "metadata": {},
     "output_type": "execute_result"
    }
   ],
   "source": [
    "from sklearn.metrics import roc_auc_score\n",
    "auc = roc_auc_score(y_test, probs)\n",
    "auc"
   ]
  },
  {
   "cell_type": "code",
   "execution_count": 19,
   "metadata": {},
   "outputs": [],
   "source": [
    "# Encontrar o melhor ponto\n",
    "import numpy as np\n",
    "distances = np.sqrt(fpr**2 + (1 - tpr)**2)  # Distância ao ponto (0,1)\n",
    "best_index = np.argmin(distances)\n",
    "best_fpr = fpr[best_index]\n",
    "best_tpr = tpr[best_index]"
   ]
  },
  {
   "cell_type": "code",
   "execution_count": 15,
   "metadata": {},
   "outputs": [
    {
     "data": {
      "image/png": "[encoded data removed]",
      "text/plain": [
       "<Figure size 640x480 with 1 Axes>"
      ]
     },
     "metadata": {},
     "output_type": "display_data"
    },
    {
     "name": "stdout",
     "output_type": "stream",
     "text": [
      "Best FPR: 0.03225806451612903\n",
      "Best TPR: 0.981651376146789\n",
      "Threshold: 0.736918732149172\n"
     ]
    }
   ],
   "source": [
    "import matplotlib.pyplot as plt\n",
    "\n",
    "plt.figure()\n",
    "plt.plot(fpr, tpr, color='blue', label='Curva ROC (AUC = {:.2f})'.format(auc))\n",
    "plt.plot([0, 1], [0, 1], color='red', linestyle='--', label='Linha de Chance')  # Linha de chance\n",
    "plt.scatter(best_fpr, best_tpr, color='green', s=100, label='Melhor Ponto')\n",
    "plt.xlabel('Taxa de Falsos Positivos (FPR)')\n",
    "plt.ylabel('Taxa de Verdadeiros Positivos (TPR)')\n",
    "plt.title('Curva ROC')\n",
    "plt.legend(loc='lower right')\n",
    "plt.show()\n",
    "\n",
    "# Exibir informações do melhor ponto\n",
    "print(f'Best FPR: {best_fpr}\\nBest TPR: {best_tpr}\\nThreshold: {thresholds[best_index]}')\n"
   ]
  }
 ],
 "metadata": {
  "kernelspec": {
   "display_name": "Python 3",
   "language": "python",
   "name": "python3"
  },
  "language_info": {
   "codemirror_mode": {
    "name": "ipython",
    "version": 3
   },
   "file_extension": ".py",
   "mimetype": "text/x-python",
   "name": "python",
   "nbconvert_exporter": "python",
   "pygments_lexer": "ipython3",
   "version": "3.12.0"
  }
 },
 "nbformat": 4,
 "nbformat_minor": 2
}
