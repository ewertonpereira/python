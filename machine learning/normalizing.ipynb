{
 "cells": [
  {
   "cell_type": "code",
   "execution_count": 1,
   "metadata": {},
   "outputs": [
    {
     "data": {
      "text/plain": [
       "array([[0.75      , 0.        , 0.        , 0.5       ],\n",
       "       [0.        , 0.33333333, 1.        , 1.        ],\n",
       "       [1.        , 1.        , 0.42857143, 0.        ]])"
      ]
     },
     "execution_count": 1,
     "metadata": {},
     "output_type": "execute_result"
    }
   ],
   "source": [
    "from sklearn.preprocessing import MinMaxScaler\n",
    "\n",
    "x = [[4,1,2,2], [1,3,9,3], [5,7,5,1]]\n",
    "norm = MinMaxScaler(feature_range=(0,1))\n",
    "norm.fit_transform(x)"
   ]
  },
  {
   "cell_type": "code",
   "execution_count": 3,
   "metadata": {},
   "outputs": [
    {
     "data": {
      "text/plain": [
       "array([[ 0.39223227, -1.06904497, -1.16247639,  0.        ],\n",
       "       [-1.37281295, -0.26726124,  1.27872403,  1.22474487],\n",
       "       [ 0.98058068,  1.33630621, -0.11624764, -1.22474487]])"
      ]
     },
     "execution_count": 3,
     "metadata": {},
     "output_type": "execute_result"
    }
   ],
   "source": [
    "from sklearn.preprocessing import StandardScaler\n",
    "\n",
    "x = [[4,1,2,2], [1,3,9,3], [5,7,5,1]]\n",
    "norm = StandardScaler()\n",
    "norm.fit_transform(x)"
   ]
  },
  {
   "cell_type": "code",
   "execution_count": 4,
   "metadata": {},
   "outputs": [
    {
     "data": {
      "text/plain": [
       "array([[0.8       , 0.14285714, 0.22222222, 0.66666667],\n",
       "       [0.2       , 0.42857143, 1.        , 1.        ],\n",
       "       [1.        , 1.        , 0.55555556, 0.33333333]])"
      ]
     },
     "execution_count": 4,
     "metadata": {},
     "output_type": "execute_result"
    }
   ],
   "source": [
    "from sklearn.preprocessing import MaxAbsScaler\n",
    "\n",
    "x = [[4,1,2,2], [1,3,9,3], [5,7,5,1]]\n",
    "norm = MaxAbsScaler()\n",
    "norm.fit_transform(x)"
   ]
  },
  {
   "cell_type": "code",
   "execution_count": 13,
   "metadata": {},
   "outputs": [
    {
     "data": {
      "text/plain": [
       "array([[0.8       , 0.14285714, 0.22222222, 0.66666667],\n",
       "       [0.2       , 0.42857143, 1.        , 1.        ],\n",
       "       [1.        , 1.        , 0.55555556, 0.33333333]])"
      ]
     },
     "execution_count": 13,
     "metadata": {},
     "output_type": "execute_result"
    }
   ],
   "source": [
    "from sklearn.preprocessing import normalize\n",
    "\n",
    "x = [[4,1,2,2], [1,3,9,3], [5,7,5,1]]\n",
    "normalize(x, norm='max', axis=0)"
   ]
  },
  {
   "cell_type": "code",
   "execution_count": 14,
   "metadata": {},
   "outputs": [
    {
     "data": {
      "text/plain": [
       "array([[0.4       , 0.09090909, 0.125     , 0.33333333],\n",
       "       [0.1       , 0.27272727, 0.5625    , 0.5       ],\n",
       "       [0.5       , 0.63636364, 0.3125    , 0.16666667]])"
      ]
     },
     "execution_count": 14,
     "metadata": {},
     "output_type": "execute_result"
    }
   ],
   "source": [
    "from sklearn.preprocessing import normalize\n",
    "\n",
    "x = [[4,1,2,2], [1,3,9,3], [5,7,5,1]]\n",
    "normalize(x, norm='l1', axis=0)"
   ]
  },
  {
   "cell_type": "code",
   "execution_count": 15,
   "metadata": {},
   "outputs": [
    {
     "data": {
      "text/plain": [
       "array([[0.6172134 , 0.13018891, 0.19069252, 0.53452248],\n",
       "       [0.15430335, 0.39056673, 0.85811633, 0.80178373],\n",
       "       [0.77151675, 0.91132238, 0.47673129, 0.26726124]])"
      ]
     },
     "execution_count": 15,
     "metadata": {},
     "output_type": "execute_result"
    }
   ],
   "source": [
    "from sklearn.preprocessing import normalize\n",
    "\n",
    "x = [[4,1,2,2], [1,3,9,3], [5,7,5,1]]\n",
    "normalize(x, norm='l2', axis=0)"
   ]
  }
 ],
 "metadata": {
  "kernelspec": {
   "display_name": "base",
   "language": "python",
   "name": "python3"
  },
  "language_info": {
   "codemirror_mode": {
    "name": "ipython",
    "version": 3
   },
   "file_extension": ".py",
   "mimetype": "text/x-python",
   "name": "python",
   "nbconvert_exporter": "python",
   "pygments_lexer": "ipython3",
   "version": "3.9.13"
  }
 },
 "nbformat": 4,
 "nbformat_minor": 2
}
