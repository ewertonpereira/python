{
 "cells": [
  {
   "cell_type": "code",
   "execution_count": 62,
   "metadata": {},
   "outputs": [
    {
     "data": {
      "text/html": [
       "<div>\n",
       "<style scoped>\n",
       "    .dataframe tbody tr th:only-of-type {\n",
       "        vertical-align: middle;\n",
       "    }\n",
       "\n",
       "    .dataframe tbody tr th {\n",
       "        vertical-align: top;\n",
       "    }\n",
       "\n",
       "    .dataframe thead th {\n",
       "        text-align: right;\n",
       "    }\n",
       "</style>\n",
       "<table border=\"1\" class=\"dataframe\">\n",
       "  <thead>\n",
       "    <tr style=\"text-align: right;\">\n",
       "      <th></th>\n",
       "      <th>OSEBuildingID</th>\n",
       "      <th>DataYear</th>\n",
       "      <th>BuildingType</th>\n",
       "      <th>PrimaryPropertyType</th>\n",
       "      <th>PropertyName</th>\n",
       "      <th>TaxParcelIdentificationNumber</th>\n",
       "      <th>Location</th>\n",
       "      <th>CouncilDistrictCode</th>\n",
       "      <th>Neighborhood</th>\n",
       "      <th>YearBuilt</th>\n",
       "      <th>...</th>\n",
       "      <th>GHGEmissionsIntensity(kgCO2e/ft2)</th>\n",
       "      <th>DefaultData</th>\n",
       "      <th>Comment</th>\n",
       "      <th>ComplianceStatus</th>\n",
       "      <th>Outlier</th>\n",
       "      <th>2010 Census Tracts</th>\n",
       "      <th>Seattle Police Department Micro Community Policing Plan Areas</th>\n",
       "      <th>City Council Districts</th>\n",
       "      <th>SPD Beats</th>\n",
       "      <th>Zip Codes</th>\n",
       "    </tr>\n",
       "  </thead>\n",
       "  <tbody>\n",
       "    <tr>\n",
       "      <th>0</th>\n",
       "      <td>1</td>\n",
       "      <td>2015</td>\n",
       "      <td>NonResidential</td>\n",
       "      <td>Hotel</td>\n",
       "      <td>MAYFLOWER PARK HOTEL</td>\n",
       "      <td>659000030</td>\n",
       "      <td>{'latitude': '47.61219025', 'longitude': '-122...</td>\n",
       "      <td>7</td>\n",
       "      <td>DOWNTOWN</td>\n",
       "      <td>1927</td>\n",
       "      <td>...</td>\n",
       "      <td>2.64</td>\n",
       "      <td>No</td>\n",
       "      <td>NaN</td>\n",
       "      <td>Compliant</td>\n",
       "      <td>NaN</td>\n",
       "      <td>NaN</td>\n",
       "      <td>14.0</td>\n",
       "      <td>NaN</td>\n",
       "      <td>31.0</td>\n",
       "      <td>18081</td>\n",
       "    </tr>\n",
       "    <tr>\n",
       "      <th>1</th>\n",
       "      <td>2</td>\n",
       "      <td>2015</td>\n",
       "      <td>NonResidential</td>\n",
       "      <td>Hotel</td>\n",
       "      <td>PARAMOUNT HOTEL</td>\n",
       "      <td>659000220</td>\n",
       "      <td>{'latitude': '47.61310583', 'longitude': '-122...</td>\n",
       "      <td>7</td>\n",
       "      <td>DOWNTOWN</td>\n",
       "      <td>1996</td>\n",
       "      <td>...</td>\n",
       "      <td>2.38</td>\n",
       "      <td>No</td>\n",
       "      <td>NaN</td>\n",
       "      <td>Compliant</td>\n",
       "      <td>NaN</td>\n",
       "      <td>NaN</td>\n",
       "      <td>14.0</td>\n",
       "      <td>NaN</td>\n",
       "      <td>31.0</td>\n",
       "      <td>18081</td>\n",
       "    </tr>\n",
       "  </tbody>\n",
       "</table>\n",
       "<p>2 rows × 47 columns</p>\n",
       "</div>"
      ],
      "text/plain": [
       "   OSEBuildingID  DataYear    BuildingType PrimaryPropertyType  \\\n",
       "0              1      2015  NonResidential               Hotel   \n",
       "1              2      2015  NonResidential               Hotel   \n",
       "\n",
       "           PropertyName TaxParcelIdentificationNumber  \\\n",
       "0  MAYFLOWER PARK HOTEL                     659000030   \n",
       "1       PARAMOUNT HOTEL                     659000220   \n",
       "\n",
       "                                            Location  CouncilDistrictCode  \\\n",
       "0  {'latitude': '47.61219025', 'longitude': '-122...                    7   \n",
       "1  {'latitude': '47.61310583', 'longitude': '-122...                    7   \n",
       "\n",
       "  Neighborhood  YearBuilt  ...  GHGEmissionsIntensity(kgCO2e/ft2)  \\\n",
       "0     DOWNTOWN       1927  ...                               2.64   \n",
       "1     DOWNTOWN       1996  ...                               2.38   \n",
       "\n",
       "   DefaultData  Comment  ComplianceStatus  Outlier 2010 Census Tracts  \\\n",
       "0           No      NaN         Compliant      NaN                NaN   \n",
       "1           No      NaN         Compliant      NaN                NaN   \n",
       "\n",
       "  Seattle Police Department Micro Community Policing Plan Areas  \\\n",
       "0                                               14.0              \n",
       "1                                               14.0              \n",
       "\n",
       "   City Council Districts SPD Beats  Zip Codes  \n",
       "0                     NaN      31.0      18081  \n",
       "1                     NaN      31.0      18081  \n",
       "\n",
       "[2 rows x 47 columns]"
      ]
     },
     "execution_count": 62,
     "metadata": {},
     "output_type": "execute_result"
    }
   ],
   "source": [
    "import pandas as pd\n",
    "dataframe = pd.read_csv('data/2015-building-energy-benchmarking.csv')\n",
    "dataframe.head(2)"
   ]
  },
  {
   "cell_type": "code",
   "execution_count": 52,
   "metadata": {},
   "outputs": [
    {
     "data": {
      "text/plain": [
       "(3340, 47)"
      ]
     },
     "execution_count": 52,
     "metadata": {},
     "output_type": "execute_result"
    }
   ],
   "source": [
    "dataframe.shape"
   ]
  },
  {
   "cell_type": "code",
   "execution_count": 53,
   "metadata": {},
   "outputs": [
    {
     "data": {
      "text/plain": [
       "OSEBuildingID                                                      int64\n",
       "DataYear                                                           int64\n",
       "BuildingType                                                      object\n",
       "PrimaryPropertyType                                               object\n",
       "PropertyName                                                      object\n",
       "TaxParcelIdentificationNumber                                     object\n",
       "Location                                                          object\n",
       "CouncilDistrictCode                                                int64\n",
       "Neighborhood                                                      object\n",
       "YearBuilt                                                          int64\n",
       "NumberofBuildings                                                  int64\n",
       "NumberofFloors                                                   float64\n",
       "PropertyGFATotal                                                   int64\n",
       "PropertyGFAParking                                                 int64\n",
       "PropertyGFABuilding(s)                                             int64\n",
       "ListOfAllPropertyUseTypes                                         object\n",
       "LargestPropertyUseType                                            object\n",
       "LargestPropertyUseTypeGFA                                        float64\n",
       "SecondLargestPropertyUseType                                      object\n",
       "SecondLargestPropertyUseTypeGFA                                  float64\n",
       "ThirdLargestPropertyUseType                                       object\n",
       "ThirdLargestPropertyUseTypeGFA                                   float64\n",
       "YearsENERGYSTARCertified                                          object\n",
       "ENERGYSTARScore                                                  float64\n",
       "SiteEUI(kBtu/sf)                                                 float64\n",
       "SiteEUIWN(kBtu/sf)                                               float64\n",
       "SourceEUI(kBtu/sf)                                               float64\n",
       "SourceEUIWN(kBtu/sf)                                             float64\n",
       "SiteEnergyUse(kBtu)                                              float64\n",
       "SiteEnergyUseWN(kBtu)                                            float64\n",
       "SteamUse(kBtu)                                                   float64\n",
       "Electricity(kWh)                                                 float64\n",
       "Electricity(kBtu)                                                float64\n",
       "NaturalGas(therms)                                               float64\n",
       "NaturalGas(kBtu)                                                 float64\n",
       "OtherFuelUse(kBtu)                                               float64\n",
       "GHGEmissions(MetricTonsCO2e)                                     float64\n",
       "GHGEmissionsIntensity(kgCO2e/ft2)                                float64\n",
       "DefaultData                                                       object\n",
       "Comment                                                           object\n",
       "ComplianceStatus                                                  object\n",
       "Outlier                                                           object\n",
       "2010 Census Tracts                                               float64\n",
       "Seattle Police Department Micro Community Policing Plan Areas    float64\n",
       "City Council Districts                                           float64\n",
       "SPD Beats                                                        float64\n",
       "Zip Codes                                                          int64\n",
       "dtype: object"
      ]
     },
     "execution_count": 53,
     "metadata": {},
     "output_type": "execute_result"
    }
   ],
   "source": [
    "dataframe.dtypes"
   ]
  },
  {
   "cell_type": "code",
   "execution_count": 54,
   "metadata": {},
   "outputs": [
    {
     "data": {
      "text/plain": [
       "OSEBuildingID                                                     0.00\n",
       "DataYear                                                          0.00\n",
       "BuildingType                                                      0.00\n",
       "PrimaryPropertyType                                               0.00\n",
       "PropertyName                                                      0.00\n",
       "TaxParcelIdentificationNumber                                     0.06\n",
       "Location                                                          0.00\n",
       "CouncilDistrictCode                                               0.00\n",
       "Neighborhood                                                      0.00\n",
       "YearBuilt                                                         0.00\n",
       "NumberofBuildings                                                 0.00\n",
       "NumberofFloors                                                    0.24\n",
       "PropertyGFATotal                                                  0.00\n",
       "PropertyGFAParking                                                0.00\n",
       "PropertyGFABuilding(s)                                            0.00\n",
       "ListOfAllPropertyUseTypes                                         3.80\n",
       "LargestPropertyUseType                                            4.07\n",
       "LargestPropertyUseTypeGFA                                         4.07\n",
       "SecondLargestPropertyUseType                                     53.32\n",
       "SecondLargestPropertyUseTypeGFA                                  53.32\n",
       "ThirdLargestPropertyUseType                                      83.23\n",
       "ThirdLargestPropertyUseTypeGFA                                   83.23\n",
       "YearsENERGYSTARCertified                                         96.71\n",
       "ENERGYSTARScore                                                  23.35\n",
       "SiteEUI(kBtu/sf)                                                  0.30\n",
       "SiteEUIWN(kBtu/sf)                                                0.30\n",
       "SourceEUI(kBtu/sf)                                                0.30\n",
       "SourceEUIWN(kBtu/sf)                                              0.30\n",
       "SiteEnergyUse(kBtu)                                               0.30\n",
       "SiteEnergyUseWN(kBtu)                                             0.30\n",
       "SteamUse(kBtu)                                                    0.30\n",
       "Electricity(kWh)                                                  0.30\n",
       "Electricity(kBtu)                                                 0.30\n",
       "NaturalGas(therms)                                                0.30\n",
       "NaturalGas(kBtu)                                                  0.30\n",
       "OtherFuelUse(kBtu)                                                0.30\n",
       "GHGEmissions(MetricTonsCO2e)                                      0.30\n",
       "GHGEmissionsIntensity(kgCO2e/ft2)                                 0.30\n",
       "DefaultData                                                       0.03\n",
       "Comment                                                          99.61\n",
       "ComplianceStatus                                                  0.00\n",
       "Outlier                                                          97.49\n",
       "2010 Census Tracts                                               93.29\n",
       "Seattle Police Department Micro Community Policing Plan Areas     0.06\n",
       "City Council Districts                                           93.62\n",
       "SPD Beats                                                         0.06\n",
       "Zip Codes                                                         0.00\n",
       "dtype: float64"
      ]
     },
     "execution_count": 54,
     "metadata": {},
     "output_type": "execute_result"
    }
   ],
   "source": [
    "# percentual de dados faltantes\n",
    "missing = ((dataframe.isnull().sum()) / len(dataframe['DataYear'])* 100).round(2)\n",
    "missing"
   ]
  },
  {
   "cell_type": "code",
   "execution_count": 55,
   "metadata": {},
   "outputs": [
    {
     "data": {
      "text/plain": [
       "780"
      ]
     },
     "execution_count": 55,
     "metadata": {},
     "output_type": "execute_result"
    }
   ],
   "source": [
    "dataframe['ENERGYSTARScore'].isnull().sum()"
   ]
  },
  {
   "cell_type": "code",
   "execution_count": 56,
   "metadata": {},
   "outputs": [],
   "source": [
    "# dataframe['ENERGYSTARScore'] = dataframe['ENERGYSTARScore'].median() # preenche todos os valores com a mediana    ERRADO!!!\n",
    "dataframe['ENERGYSTARScore'] = dataframe['ENERGYSTARScore'].fillna(dataframe['ENERGYSTARScore'].median())"
   ]
  },
  {
   "cell_type": "code",
   "execution_count": 57,
   "metadata": {},
   "outputs": [
    {
     "data": {
      "text/plain": [
       "0"
      ]
     },
     "execution_count": 57,
     "metadata": {},
     "output_type": "execute_result"
    }
   ],
   "source": [
    "dataframe['ENERGYSTARScore'].isnull().sum()"
   ]
  },
  {
   "cell_type": "code",
   "execution_count": 58,
   "metadata": {},
   "outputs": [
    {
     "data": {
      "text/plain": [
       "0       65.0\n",
       "1       51.0\n",
       "2       18.0\n",
       "3        1.0\n",
       "4       67.0\n",
       "        ... \n",
       "3335    71.0\n",
       "3336    98.0\n",
       "3337    79.0\n",
       "3338    44.0\n",
       "3339    24.0\n",
       "Name: ENERGYSTARScore, Length: 3340, dtype: float64"
      ]
     },
     "execution_count": 58,
     "metadata": {},
     "output_type": "execute_result"
    }
   ],
   "source": [
    "dataframe['ENERGYSTARScore']"
   ]
  }
 ],
 "metadata": {
  "kernelspec": {
   "display_name": "Python 3",
   "language": "python",
   "name": "python3"
  },
  "language_info": {
   "codemirror_mode": {
    "name": "ipython",
    "version": 3
   },
   "file_extension": ".py",
   "mimetype": "text/x-python",
   "name": "python",
   "nbconvert_exporter": "python",
   "pygments_lexer": "ipython3",
   "version": "3.12.0"
  }
 },
 "nbformat": 4,
 "nbformat_minor": 2
}
