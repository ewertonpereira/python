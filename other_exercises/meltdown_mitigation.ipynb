{
 "cells": [
  {
   "cell_type": "markdown",
   "metadata": {},
   "source": [
    "# Instructions"
   ]
  },
  {
   "cell_type": "markdown",
   "metadata": {},
   "source": [
    "### Check for criticality"
   ]
  },
  {
   "cell_type": "markdown",
   "metadata": {},
   "source": [
    "In this exercise, we'll develop a simple control system for a nuclear reactor.\n",
    "\n",
    "For a reactor to produce the power it must be in a state of criticality. If the reactor is in a state less than criticality, it can become damaged. If the reactor state goes beyond criticality, it can overload and result in a meltdown. We want to mitigate the chances of meltdown and correctly manage reactor state.\n",
    "\n",
    "The following three tasks are all related to writing code for maintaining ideal reactor state."
   ]
  },
  {
   "cell_type": "code",
   "execution_count": 9,
   "metadata": {},
   "outputs": [],
   "source": [
    "def is_criticality_balanced(temperature:  float, neutrons_emitted:  float) -> bool:\n",
    "    \"\"\"Verify criticality is balanced.\n",
    "\n",
    "    :param temperature: int or float - temperature value in kelvin.\n",
    "    :param neutrons_emitted: int or float - number of neutrons emitted per second.\n",
    "    :return: bool - is criticality balanced?\n",
    "\n",
    "    A reactor is said to be critical if it satisfies the following conditions:\n",
    "    - The temperature is less than 800 K.\n",
    "    - The number of neutrons emitted per second is greater than 500.\n",
    "    - The product of temperature and neutrons emitted per second is less than 500000.\n",
    "    \"\"\"\n",
    "\n",
    "    return temperature < 800 and neutrons_emitted > 500  and temperature * neutrons_emitted < 500000"
   ]
  },
  {
   "cell_type": "code",
   "execution_count": 3,
   "metadata": {},
   "outputs": [
    {
     "data": {
      "text/plain": [
       "True"
      ]
     },
     "execution_count": 3,
     "metadata": {},
     "output_type": "execute_result"
    }
   ],
   "source": [
    "is_criticality_balanced(750, 600)"
   ]
  },
  {
   "cell_type": "markdown",
   "metadata": {},
   "source": [
    "### Determine to power output range"
   ]
  },
  {
   "cell_type": "markdown",
   "metadata": {},
   "source": [
    "Once the reactor has started producing power its efficiency needs to be determined. Efficiency can be grouped into 4 bands:\n",
    "\n",
    "* green -> efficiency of 80% or more,\n",
    "* orange -> efficiency of less than 80% but at least 60%,\n",
    "* red -> efficiency below 60%, but still 30% or more,\n",
    "* black -> less than 30% efficient.\n",
    "\n",
    "The percentage value can be calculated as (generated_power/theoretical_max_power)*100 where generated_power = voltage * current. \n",
    "\n",
    "Note that the percentage value is usually not an integer number, so make sure to consider the proper use of the < and <= comparisons."
   ]
  },
  {
   "cell_type": "code",
   "execution_count": 94,
   "metadata": {},
   "outputs": [],
   "source": [
    "def reactor_efficiency(voltage: float, current: float, theoretical_max_power: float) -> str:\n",
    "    \"\"\"Assess reactor efficiency zone.\n",
    "\n",
    "    :param voltage: int or float - voltage value.\n",
    "    :param current: int or float - current value.\n",
    "    :param theoretical_max_power: int or float - power that corresponds to a 100% efficiency.\n",
    "    :return: str - one of ('green', 'orange', 'red', or 'black').\n",
    "\n",
    "    Efficiency can be grouped into 4 bands:\n",
    "\n",
    "    1. green -> efficiency of 80% or more,\n",
    "    2. orange -> efficiency of less than 80% but at least 60%,\n",
    "    3. red -> efficiency below 60%, but still 30% or more,\n",
    "    4. black ->  less than 30% efficient.\n",
    "\n",
    "    The percentage value is calculated as\n",
    "    (generated power/ theoretical max power)*100\n",
    "    where generated power = voltage * current\n",
    "    \"\"\"\n",
    "    efficiency: float  = ((voltage * current)/theoretical_max_power)*100\n",
    "    print(efficiency)\n",
    "\n",
    "    if efficiency >= 80: \n",
    "        return 'Green'\n",
    "    elif efficiency >= 60:\n",
    "        return 'Orange'\n",
    "    elif efficiency >= 30:\n",
    "        return 'Red'\n",
    "    else:\n",
    "        return 'Black'"
   ]
  },
  {
   "cell_type": "code",
   "execution_count": 95,
   "metadata": {},
   "outputs": [
    {
     "name": "stdout",
     "output_type": "stream",
     "text": [
      "29.9\n"
     ]
    },
    {
     "data": {
      "text/plain": [
       "'Black'"
      ]
     },
     "execution_count": 95,
     "metadata": {},
     "output_type": "execute_result"
    }
   ],
   "source": [
    "#reactor_efficiency(10,50,15000)\n",
    "reactor_efficiency(10,299,10000)"
   ]
  },
  {
   "cell_type": "markdown",
   "metadata": {},
   "source": [
    "### Fail safe machanism"
   ]
  },
  {
   "cell_type": "markdown",
   "metadata": {},
   "source": [
    "Your final task involves creating a fail-safe mechanism to avoid overload and meltdown. This mechanism will determine if the reactor is below, at, or above the ideal criticality threshold. Criticality can then be increased, decreased, or stopped by inserting (or removing) control rods into the reactor.\n",
    "\n",
    "Implement the function called fail_safe(), which takes 3 parameters: temperature measured in kelvin, neutrons_produced_per_second, and threshold, and outputs a status code for the reactor.\n",
    "\n",
    "* If temperature * neutrons_produced_per_second < 90% of threshold, output a status code of 'LOW' indicating that control rods must be removed to produce power.\n",
    "\n",
    "* If the value temperature * neutrons_produced_per_second is within 10% of the threshold (so either 0-10% less than the threshold, at the threshold, or 0-10% greater than the threshold), the reactor is in criticality and the status code of 'NORMAL' should be output, indicating that the reactor is in optimum condition and control rods are in an ideal position.\n",
    "\n",
    "* If temperature * neutrons_produced_per_second is not in the above-stated ranges, the reactor is going into meltdown and a status code of 'DANGER' must be passed to immediately shut down the reactor."
   ]
  },
  {
   "cell_type": "code",
   "execution_count": 35,
   "metadata": {},
   "outputs": [],
   "source": [
    "def fail_safe(temperature: float, neutrons_produced_per_second: float, threshold: float) -> str:\n",
    "    \"\"\"Assess and return status code for the reactor.\n",
    "\n",
    "    :param temperature: int or float - value of the temperature in kelvin.\n",
    "    :param neutrons_produced_per_second: int or float - neutron flux.\n",
    "    :param threshold: int or float - threshold for category.\n",
    "    :return: str - one of ('LOW', 'NORMAL', 'DANGER').\n",
    "\n",
    "    1. 'LOW' -> `temperature * neutrons per second` < 90% of `threshold`\n",
    "    2. 'NORMAL' -> `temperature * neutrons per second` +/- 10% of `threshold`\n",
    "    3. 'DANGER' -> `temperature * neutrons per second` is not in the above-stated ranges\n",
    "    \"\"\"\n",
    "    value: float = temperature * neutrons_produced_per_second\n",
    "\n",
    "    if value < threshold * 0.9: \n",
    "        return 'LOW'\n",
    "    elif  value >= threshold * 0.9 or value <= threshold * 1.1:\n",
    "        return 'NORMAL'\n",
    "    else:\n",
    "        return 'DANGER'"
   ]
  },
  {
   "cell_type": "code",
   "execution_count": 36,
   "metadata": {},
   "outputs": [
    {
     "data": {
      "text/plain": [
       "'NORMAL'"
      ]
     },
     "execution_count": 36,
     "metadata": {},
     "output_type": "execute_result"
    }
   ],
   "source": [
    "fail_safe(temperature=1000, neutrons_produced_per_second=30, threshold=5000)"
   ]
  }
 ],
 "metadata": {
  "kernelspec": {
   "display_name": "Python 3",
   "language": "python",
   "name": "python3"
  },
  "language_info": {
   "codemirror_mode": {
    "name": "ipython",
    "version": 3
   },
   "file_extension": ".py",
   "mimetype": "text/x-python",
   "name": "python",
   "nbconvert_exporter": "python",
   "pygments_lexer": "ipython3",
   "version": "3.12.0"
  }
 },
 "nbformat": 4,
 "nbformat_minor": 2
}
